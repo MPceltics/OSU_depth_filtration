{
  "nbformat": 4,
  "nbformat_minor": 0,
  "metadata": {
    "colab": {
      "name": "Interactive-Tutorial-3-Python-Packages.ipynb",
      "provenance": [],
      "collapsed_sections": [],
      "include_colab_link": true
    },
    "kernelspec": {
      "name": "python3",
      "display_name": "Python 3"
    }
  },
  "cells": [
    {
      "cell_type": "markdown",
      "metadata": {
        "id": "view-in-github",
        "colab_type": "text"
      },
      "source": [
        "<a href=\"https://colab.research.google.com/github/MPceltics/OSU_depth_filtration/blob/main/Interactive_Tutorial_3_Python_Packages1to6.ipynb\" target=\"_parent\"><img src=\"https://colab.research.google.com/assets/colab-badge.svg\" alt=\"Open In Colab\"/></a>"
      ]
    },
    {
      "cell_type": "markdown",
      "metadata": {
        "id": "OEZnHpDA4Xn3"
      },
      "source": [
        "# Interactive Tutorial 3: Python Packages\n",
        "\n",
        "Welcome to the Python Packages tutorial! Remember that you can refer to the \n",
        "[Python Packages](https://aguaclara.github.io/aguaclara_tutorial/python/python-packages.html) pages in the AguaClara tutorial wiki and the [AguaClara  package documentation](https://aguaclara.github.io/aguaclara/) (especially the search bar) for help.\n",
        "\n",
        "Before we begin, we'll install the AguaClara Python package."
      ]
    },
    {
      "cell_type": "code",
      "metadata": {
        "id": "DuXN-XjZvh5O",
        "colab": {
          "base_uri": "https://localhost:8080/"
        },
        "outputId": "90b63e79-6947-4660-a910-9cdb0281c12c"
      },
      "source": [
        "!pip install aguaclara\n",
        "import numpy as np"
      ],
      "execution_count": 9,
      "outputs": [
        {
          "output_type": "stream",
          "text": [
            "Requirement already satisfied: aguaclara in /usr/local/lib/python3.7/dist-packages (0.2.10)\n",
            "Requirement already satisfied: onshape-client in /usr/local/lib/python3.7/dist-packages (from aguaclara) (1.6.3)\n",
            "Requirement already satisfied: scipy in /usr/local/lib/python3.7/dist-packages (from aguaclara) (1.4.1)\n",
            "Requirement already satisfied: pandas in /usr/local/lib/python3.7/dist-packages (from aguaclara) (1.1.5)\n",
            "Requirement already satisfied: urllib3 in /usr/local/lib/python3.7/dist-packages (from aguaclara) (1.24.3)\n",
            "Requirement already satisfied: pint in /usr/local/lib/python3.7/dist-packages (from aguaclara) (0.17)\n",
            "Requirement already satisfied: matplotlib in /usr/local/lib/python3.7/dist-packages (from aguaclara) (3.2.2)\n",
            "Requirement already satisfied: six>=1.10 in /usr/local/lib/python3.7/dist-packages (from onshape-client->aguaclara) (1.15.0)\n",
            "Requirement already satisfied: ruamel.yaml in /usr/local/lib/python3.7/dist-packages (from onshape-client->aguaclara) (0.17.7)\n",
            "Requirement already satisfied: nulltype in /usr/local/lib/python3.7/dist-packages (from onshape-client->aguaclara) (2.3.1)\n",
            "Requirement already satisfied: certifi>=2017.4.17 in /usr/local/lib/python3.7/dist-packages (from onshape-client->aguaclara) (2020.12.5)\n",
            "Requirement already satisfied: python-dateutil>=2.1 in /usr/local/lib/python3.7/dist-packages (from onshape-client->aguaclara) (2.8.1)\n",
            "Requirement already satisfied: requests-oauthlib in /usr/local/lib/python3.7/dist-packages (from onshape-client->aguaclara) (1.3.0)\n",
            "Requirement already satisfied: numpy>=1.13.3 in /usr/local/lib/python3.7/dist-packages (from scipy->aguaclara) (1.19.5)\n",
            "Requirement already satisfied: pytz>=2017.2 in /usr/local/lib/python3.7/dist-packages (from pandas->aguaclara) (2018.9)\n",
            "Requirement already satisfied: packaging in /usr/local/lib/python3.7/dist-packages (from pint->aguaclara) (20.9)\n",
            "Requirement already satisfied: importlib-metadata; python_version < \"3.8\" in /usr/local/lib/python3.7/dist-packages (from pint->aguaclara) (4.0.1)\n",
            "Requirement already satisfied: pyparsing!=2.0.4,!=2.1.2,!=2.1.6,>=2.0.1 in /usr/local/lib/python3.7/dist-packages (from matplotlib->aguaclara) (2.4.7)\n",
            "Requirement already satisfied: cycler>=0.10 in /usr/local/lib/python3.7/dist-packages (from matplotlib->aguaclara) (0.10.0)\n",
            "Requirement already satisfied: kiwisolver>=1.0.1 in /usr/local/lib/python3.7/dist-packages (from matplotlib->aguaclara) (1.3.1)\n",
            "Requirement already satisfied: ruamel.yaml.clib>=0.1.2; platform_python_implementation == \"CPython\" and python_version < \"3.10\" in /usr/local/lib/python3.7/dist-packages (from ruamel.yaml->onshape-client->aguaclara) (0.2.2)\n",
            "Requirement already satisfied: oauthlib>=3.0.0 in /usr/local/lib/python3.7/dist-packages (from requests-oauthlib->onshape-client->aguaclara) (3.1.0)\n",
            "Requirement already satisfied: requests>=2.0.0 in /usr/local/lib/python3.7/dist-packages (from requests-oauthlib->onshape-client->aguaclara) (2.23.0)\n",
            "Requirement already satisfied: zipp>=0.5 in /usr/local/lib/python3.7/dist-packages (from importlib-metadata; python_version < \"3.8\"->pint->aguaclara) (3.4.1)\n",
            "Requirement already satisfied: typing-extensions>=3.6.4; python_version < \"3.8\" in /usr/local/lib/python3.7/dist-packages (from importlib-metadata; python_version < \"3.8\"->pint->aguaclara) (3.7.4.3)\n",
            "Requirement already satisfied: idna<3,>=2.5 in /usr/local/lib/python3.7/dist-packages (from requests>=2.0.0->requests-oauthlib->onshape-client->aguaclara) (2.10)\n",
            "Requirement already satisfied: chardet<4,>=3.0.2 in /usr/local/lib/python3.7/dist-packages (from requests>=2.0.0->requests-oauthlib->onshape-client->aguaclara) (3.0.4)\n"
          ],
          "name": "stdout"
        }
      ]
    },
    {
      "cell_type": "markdown",
      "metadata": {
        "id": "MxT3iittMXiU"
      },
      "source": [
        "1. Use two built-in Python functions to calculate the mean of the numbers in the list."
      ]
    },
    {
      "cell_type": "code",
      "metadata": {
        "id": "_nOuf_twMlP6",
        "colab": {
          "base_uri": "https://localhost:8080/"
        },
        "outputId": "5771836d-5cda-4424-f0f0-18bfa41d73d7"
      },
      "source": [
        "nums = [3, 14, 159, 26, 535, 89, 79, 32]\n",
        "l=len(nums)\n",
        "t=sum(nums)\n",
        "result = t/l\n",
        "\n",
        "print(result)"
      ],
      "execution_count": 2,
      "outputs": [
        {
          "output_type": "stream",
          "text": [
            "117.125\n"
          ],
          "name": "stdout"
        }
      ]
    },
    {
      "cell_type": "markdown",
      "metadata": {
        "id": "wXcwcEC12H2P"
      },
      "source": [
        "2. If `time` is a fraction of day (e.g. 0 means 0:00 and 0.75 means 18:00), determine the hour and minute it represents. Use a built-in function to round to the nearest minute.\n",
        "\n",
        "   *Hint: the built-in function `int()` may also be useful for the hour."
      ]
    },
    {
      "cell_type": "code",
      "metadata": {
        "id": "Emy17IxB3Pnp",
        "colab": {
          "base_uri": "https://localhost:8080/"
        },
        "outputId": "3cb14b15-f3f7-4c40-ed40-da2a7d4ec1db"
      },
      "source": [
        "time = 0.5236111111\n",
        "t=time*24\n",
        "print(t)\n",
        "hour = int(t)\n",
        "min=t-hour\n",
        "mint=min*100\n",
        "minute = int(mint)\n",
        "\n",
        "print(hour, \":\", minute)"
      ],
      "execution_count": 6,
      "outputs": [
        {
          "output_type": "stream",
          "text": [
            "12.5666666664\n",
            "12 : 56\n"
          ],
          "name": "stdout"
        }
      ]
    },
    {
      "cell_type": "markdown",
      "metadata": {
        "id": "FNIqy2Wmzfkx"
      },
      "source": [
        "3. Set `n` equal to your favorite integer. Use a built-in Python function to convert it to a string. Then, use another built-in function to convert it back to an integer."
      ]
    },
    {
      "cell_type": "code",
      "metadata": {
        "id": "xq9zP3vA0AXL",
        "colab": {
          "base_uri": "https://localhost:8080/"
        },
        "outputId": "1c6d9fa7-775d-49b7-f447-2994270a85fe"
      },
      "source": [
        "n = 5\n",
        "\n",
        "n_string = str(n)\n",
        "n_number = int(n_string)\n",
        "\n",
        "print(n_string)\n",
        "print(n_number)"
      ],
      "execution_count": 8,
      "outputs": [
        {
          "output_type": "stream",
          "text": [
            "5\n",
            "5\n"
          ],
          "name": "stdout"
        }
      ]
    },
    {
      "cell_type": "markdown",
      "metadata": {
        "id": "zwYTv-uLMy23"
      },
      "source": [
        "4. Use NumPy functions to calculate and print the value of $$\\frac{1}{\\sqrt{2\\pi}} e^{x^2}\\cos(x)$$"
      ]
    },
    {
      "cell_type": "code",
      "metadata": {
        "id": "SLV673uzs2ug",
        "colab": {
          "base_uri": "https://localhost:8080/"
        },
        "outputId": "02d89331-7737-4341-b395-111e52e9062c"
      },
      "source": [
        "x = 0.5\n",
        "\n",
        "result = (1/np.sqrt(2*np.pi))*(np.e**x**2)*np.cos(x)\n",
        "\n",
        "p= (np.e)\n",
        "print(p)\n",
        "\n",
        "print(result)"
      ],
      "execution_count": 16,
      "outputs": [
        {
          "output_type": "stream",
          "text": [
            "2.718281828459045\n",
            "0.4495434469137881\n"
          ],
          "name": "stdout"
        }
      ]
    },
    {
      "cell_type": "markdown",
      "metadata": {
        "id": "7myK0j_7tFUM"
      },
      "source": [
        "5. Use a Numpy function to get a sequence of odd numbers from 5 to 15."
      ]
    },
    {
      "cell_type": "code",
      "metadata": {
        "id": "To2wYEMWwJPH",
        "colab": {
          "base_uri": "https://localhost:8080/"
        },
        "outputId": "faccc449-3735-46f9-ea5a-aecba614b4b2"
      },
      "source": [
        "odds = np.arange(5,16,2)\n",
        "\n",
        "print(odds)"
      ],
      "execution_count": 18,
      "outputs": [
        {
          "output_type": "stream",
          "text": [
            "[ 5  7  9 11 13 15]\n"
          ],
          "name": "stdout"
        }
      ]
    },
    {
      "cell_type": "markdown",
      "metadata": {
        "id": "8DkuxvGrwmgO"
      },
      "source": [
        "6. Use units from the AguaClara Python package to write the speed limit in your home state or country."
      ]
    },
    {
      "cell_type": "code",
      "metadata": {
        "id": "IF0jeZucxEDK",
        "colab": {
          "base_uri": "https://localhost:8080/"
        },
        "outputId": "47536eca-2ecd-4e66-f30f-344c203d0022"
      },
      "source": [
        "!pip install aguaclara\n",
        "from aguaclara.core.units import u\n",
        "speed_limit = u.mile/u.hour\n",
        "\n",
        "print(speed_limit)"
      ],
      "execution_count": 19,
      "outputs": [
        {
          "output_type": "stream",
          "text": [
            "Requirement already satisfied: aguaclara in /usr/local/lib/python3.7/dist-packages (0.2.10)\n",
            "Requirement already satisfied: pandas in /usr/local/lib/python3.7/dist-packages (from aguaclara) (1.1.5)\n",
            "Requirement already satisfied: urllib3 in /usr/local/lib/python3.7/dist-packages (from aguaclara) (1.24.3)\n",
            "Requirement already satisfied: matplotlib in /usr/local/lib/python3.7/dist-packages (from aguaclara) (3.2.2)\n",
            "Requirement already satisfied: onshape-client in /usr/local/lib/python3.7/dist-packages (from aguaclara) (1.6.3)\n",
            "Requirement already satisfied: pint in /usr/local/lib/python3.7/dist-packages (from aguaclara) (0.17)\n",
            "Requirement already satisfied: scipy in /usr/local/lib/python3.7/dist-packages (from aguaclara) (1.4.1)\n",
            "Requirement already satisfied: pytz>=2017.2 in /usr/local/lib/python3.7/dist-packages (from pandas->aguaclara) (2018.9)\n",
            "Requirement already satisfied: python-dateutil>=2.7.3 in /usr/local/lib/python3.7/dist-packages (from pandas->aguaclara) (2.8.1)\n",
            "Requirement already satisfied: numpy>=1.15.4 in /usr/local/lib/python3.7/dist-packages (from pandas->aguaclara) (1.19.5)\n",
            "Requirement already satisfied: kiwisolver>=1.0.1 in /usr/local/lib/python3.7/dist-packages (from matplotlib->aguaclara) (1.3.1)\n",
            "Requirement already satisfied: pyparsing!=2.0.4,!=2.1.2,!=2.1.6,>=2.0.1 in /usr/local/lib/python3.7/dist-packages (from matplotlib->aguaclara) (2.4.7)\n",
            "Requirement already satisfied: cycler>=0.10 in /usr/local/lib/python3.7/dist-packages (from matplotlib->aguaclara) (0.10.0)\n",
            "Requirement already satisfied: requests-oauthlib in /usr/local/lib/python3.7/dist-packages (from onshape-client->aguaclara) (1.3.0)\n",
            "Requirement already satisfied: certifi>=2017.4.17 in /usr/local/lib/python3.7/dist-packages (from onshape-client->aguaclara) (2020.12.5)\n",
            "Requirement already satisfied: six>=1.10 in /usr/local/lib/python3.7/dist-packages (from onshape-client->aguaclara) (1.15.0)\n",
            "Requirement already satisfied: ruamel.yaml in /usr/local/lib/python3.7/dist-packages (from onshape-client->aguaclara) (0.17.7)\n",
            "Requirement already satisfied: nulltype in /usr/local/lib/python3.7/dist-packages (from onshape-client->aguaclara) (2.3.1)\n",
            "Requirement already satisfied: packaging in /usr/local/lib/python3.7/dist-packages (from pint->aguaclara) (20.9)\n",
            "Requirement already satisfied: importlib-metadata; python_version < \"3.8\" in /usr/local/lib/python3.7/dist-packages (from pint->aguaclara) (4.0.1)\n",
            "Requirement already satisfied: requests>=2.0.0 in /usr/local/lib/python3.7/dist-packages (from requests-oauthlib->onshape-client->aguaclara) (2.23.0)\n",
            "Requirement already satisfied: oauthlib>=3.0.0 in /usr/local/lib/python3.7/dist-packages (from requests-oauthlib->onshape-client->aguaclara) (3.1.0)\n",
            "Requirement already satisfied: ruamel.yaml.clib>=0.1.2; platform_python_implementation == \"CPython\" and python_version < \"3.10\" in /usr/local/lib/python3.7/dist-packages (from ruamel.yaml->onshape-client->aguaclara) (0.2.2)\n",
            "Requirement already satisfied: typing-extensions>=3.6.4; python_version < \"3.8\" in /usr/local/lib/python3.7/dist-packages (from importlib-metadata; python_version < \"3.8\"->pint->aguaclara) (3.7.4.3)\n",
            "Requirement already satisfied: zipp>=0.5 in /usr/local/lib/python3.7/dist-packages (from importlib-metadata; python_version < \"3.8\"->pint->aguaclara) (3.4.1)\n",
            "Requirement already satisfied: chardet<4,>=3.0.2 in /usr/local/lib/python3.7/dist-packages (from requests>=2.0.0->requests-oauthlib->onshape-client->aguaclara) (3.0.4)\n",
            "Requirement already satisfied: idna<3,>=2.5 in /usr/local/lib/python3.7/dist-packages (from requests>=2.0.0->requests-oauthlib->onshape-client->aguaclara) (2.10)\n",
            "mile / hour\n"
          ],
          "name": "stdout"
        }
      ]
    },
    {
      "cell_type": "markdown",
      "metadata": {
        "id": "syCrvqLyxjUm"
      },
      "source": [
        "7. Use a function from the AguaClara package to calculate the area of a circle with a diameter of 4 centimeters. Print your answer with 4 sig figs with the help of another function from the package."
      ]
    },
    {
      "cell_type": "code",
      "metadata": {
        "id": "eTcSLyeTxiYY",
        "colab": {
          "base_uri": "https://localhost:8080/",
          "height": 826
        },
        "outputId": "6b823b7d-ed82-4d0e-aeb3-a8a484285686"
      },
      "source": [
        "!pip install aguaclara\n",
        "from aguaclara.core.units import u\n",
        "from aguaclara.core.physchem import physchem\n",
        "area = physchem.area_circle(4 * u.cm)\n",
        "\n",
        "print(area)"
      ],
      "execution_count": 3,
      "outputs": [
        {
          "output_type": "stream",
          "text": [
            "Requirement already satisfied: aguaclara in /usr/local/lib/python3.7/dist-packages (0.2.10)\n",
            "Requirement already satisfied: scipy in /usr/local/lib/python3.7/dist-packages (from aguaclara) (1.4.1)\n",
            "Requirement already satisfied: matplotlib in /usr/local/lib/python3.7/dist-packages (from aguaclara) (3.2.2)\n",
            "Requirement already satisfied: pandas in /usr/local/lib/python3.7/dist-packages (from aguaclara) (1.1.5)\n",
            "Requirement already satisfied: onshape-client in /usr/local/lib/python3.7/dist-packages (from aguaclara) (1.6.3)\n",
            "Requirement already satisfied: pint in /usr/local/lib/python3.7/dist-packages (from aguaclara) (0.17)\n",
            "Requirement already satisfied: urllib3 in /usr/local/lib/python3.7/dist-packages (from aguaclara) (1.24.3)\n",
            "Requirement already satisfied: numpy>=1.13.3 in /usr/local/lib/python3.7/dist-packages (from scipy->aguaclara) (1.19.5)\n",
            "Requirement already satisfied: cycler>=0.10 in /usr/local/lib/python3.7/dist-packages (from matplotlib->aguaclara) (0.10.0)\n",
            "Requirement already satisfied: python-dateutil>=2.1 in /usr/local/lib/python3.7/dist-packages (from matplotlib->aguaclara) (2.8.1)\n",
            "Requirement already satisfied: pyparsing!=2.0.4,!=2.1.2,!=2.1.6,>=2.0.1 in /usr/local/lib/python3.7/dist-packages (from matplotlib->aguaclara) (2.4.7)\n",
            "Requirement already satisfied: kiwisolver>=1.0.1 in /usr/local/lib/python3.7/dist-packages (from matplotlib->aguaclara) (1.3.1)\n",
            "Requirement already satisfied: pytz>=2017.2 in /usr/local/lib/python3.7/dist-packages (from pandas->aguaclara) (2018.9)\n",
            "Requirement already satisfied: certifi>=2017.4.17 in /usr/local/lib/python3.7/dist-packages (from onshape-client->aguaclara) (2020.12.5)\n",
            "Requirement already satisfied: nulltype in /usr/local/lib/python3.7/dist-packages (from onshape-client->aguaclara) (2.3.1)\n",
            "Requirement already satisfied: ruamel.yaml in /usr/local/lib/python3.7/dist-packages (from onshape-client->aguaclara) (0.17.7)\n",
            "Requirement already satisfied: requests-oauthlib in /usr/local/lib/python3.7/dist-packages (from onshape-client->aguaclara) (1.3.0)\n",
            "Requirement already satisfied: six>=1.10 in /usr/local/lib/python3.7/dist-packages (from onshape-client->aguaclara) (1.15.0)\n",
            "Requirement already satisfied: importlib-metadata; python_version < \"3.8\" in /usr/local/lib/python3.7/dist-packages (from pint->aguaclara) (4.0.1)\n",
            "Requirement already satisfied: packaging in /usr/local/lib/python3.7/dist-packages (from pint->aguaclara) (20.9)\n",
            "Requirement already satisfied: ruamel.yaml.clib>=0.1.2; platform_python_implementation == \"CPython\" and python_version < \"3.10\" in /usr/local/lib/python3.7/dist-packages (from ruamel.yaml->onshape-client->aguaclara) (0.2.2)\n",
            "Requirement already satisfied: oauthlib>=3.0.0 in /usr/local/lib/python3.7/dist-packages (from requests-oauthlib->onshape-client->aguaclara) (3.1.0)\n",
            "Requirement already satisfied: requests>=2.0.0 in /usr/local/lib/python3.7/dist-packages (from requests-oauthlib->onshape-client->aguaclara) (2.23.0)\n",
            "Requirement already satisfied: typing-extensions>=3.6.4; python_version < \"3.8\" in /usr/local/lib/python3.7/dist-packages (from importlib-metadata; python_version < \"3.8\"->pint->aguaclara) (3.7.4.3)\n",
            "Requirement already satisfied: zipp>=0.5 in /usr/local/lib/python3.7/dist-packages (from importlib-metadata; python_version < \"3.8\"->pint->aguaclara) (3.4.1)\n",
            "Requirement already satisfied: chardet<4,>=3.0.2 in /usr/local/lib/python3.7/dist-packages (from requests>=2.0.0->requests-oauthlib->onshape-client->aguaclara) (3.0.4)\n",
            "Requirement already satisfied: idna<3,>=2.5 in /usr/local/lib/python3.7/dist-packages (from requests>=2.0.0->requests-oauthlib->onshape-client->aguaclara) (2.10)\n"
          ],
          "name": "stdout"
        },
        {
          "output_type": "error",
          "ename": "ImportError",
          "evalue": "ignored",
          "traceback": [
            "\u001b[0;31m---------------------------------------------------------------------------\u001b[0m",
            "\u001b[0;31mImportError\u001b[0m                               Traceback (most recent call last)",
            "\u001b[0;32m<ipython-input-3-ec586268b98b>\u001b[0m in \u001b[0;36m<module>\u001b[0;34m()\u001b[0m\n\u001b[1;32m      1\u001b[0m \u001b[0mget_ipython\u001b[0m\u001b[0;34m(\u001b[0m\u001b[0;34m)\u001b[0m\u001b[0;34m.\u001b[0m\u001b[0msystem\u001b[0m\u001b[0;34m(\u001b[0m\u001b[0;34m'pip install aguaclara'\u001b[0m\u001b[0;34m)\u001b[0m\u001b[0;34m\u001b[0m\u001b[0;34m\u001b[0m\u001b[0m\n\u001b[1;32m      2\u001b[0m \u001b[0;32mfrom\u001b[0m \u001b[0maguaclara\u001b[0m\u001b[0;34m.\u001b[0m\u001b[0mcore\u001b[0m\u001b[0;34m.\u001b[0m\u001b[0munits\u001b[0m \u001b[0;32mimport\u001b[0m \u001b[0mu\u001b[0m\u001b[0;34m\u001b[0m\u001b[0;34m\u001b[0m\u001b[0m\n\u001b[0;32m----> 3\u001b[0;31m \u001b[0;32mfrom\u001b[0m \u001b[0maguaclara\u001b[0m\u001b[0;34m.\u001b[0m\u001b[0mcore\u001b[0m\u001b[0;34m.\u001b[0m\u001b[0mphyschem\u001b[0m \u001b[0;32mimport\u001b[0m \u001b[0mphyschem\u001b[0m\u001b[0;34m\u001b[0m\u001b[0;34m\u001b[0m\u001b[0m\n\u001b[0m\u001b[1;32m      4\u001b[0m \u001b[0marea\u001b[0m \u001b[0;34m=\u001b[0m \u001b[0mphyschem\u001b[0m\u001b[0;34m.\u001b[0m\u001b[0marea_circle\u001b[0m\u001b[0;34m(\u001b[0m\u001b[0;36m4\u001b[0m \u001b[0;34m*\u001b[0m \u001b[0mu\u001b[0m\u001b[0;34m.\u001b[0m\u001b[0mcm\u001b[0m\u001b[0;34m)\u001b[0m\u001b[0;34m\u001b[0m\u001b[0;34m\u001b[0m\u001b[0m\n\u001b[1;32m      5\u001b[0m \u001b[0;34m\u001b[0m\u001b[0m\n",
            "\u001b[0;31mImportError\u001b[0m: cannot import name 'physchem' from 'aguaclara.core.physchem' (/usr/local/lib/python3.7/dist-packages/aguaclara/core/physchem.py)",
            "",
            "\u001b[0;31m---------------------------------------------------------------------------\u001b[0;32m\nNOTE: If your import is failing due to a missing package, you can\nmanually install dependencies using either !pip or !apt.\n\nTo view examples of installing some common dependencies, click the\n\"Open Examples\" button below.\n\u001b[0;31m---------------------------------------------------------------------------\u001b[0m\n"
          ]
        }
      ]
    },
    {
      "cell_type": "markdown",
      "metadata": {
        "id": "rwXbUHxk7cju"
      },
      "source": [
        "8. According to the Bernoulli equation, the change in pressure of fluid flowing from the surface of a large reservoir to the end of an outlet located $H$ meters below the surface is $$\\Delta P = \\rho \\left(gH - \\frac{v^2}{2}\\right)$$ where $\\rho$ is the fluid's density, $g$ is the gravitational acceleration constant, and $v$ is the velocity of the fluid exiting the outlet.\n",
        "\n",
        "   Write a function that calculates this change in pressure given temperature, the outlet depth, and the exit velocity as parameters. Assume that the fluid is water and return the pressure in units of pascals. **Test your function with 20˚C, 100 m, and 15 m/s as inputs.**\n",
        "\n",
        "   *Hint: use a function from the AguaClara package to calculate the density of the water at the given temperature. Also, use a constant from the unit registry for $g$.*"
      ]
    },
    {
      "cell_type": "code",
      "metadata": {
        "id": "E__akgzcBOki"
      },
      "source": [
        "# Your answer here"
      ],
      "execution_count": null,
      "outputs": []
    }
  ]
}